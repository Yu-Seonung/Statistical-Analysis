{
 "cells": [
  {
   "cell_type": "code",
   "execution_count": null,
   "id": "28ac7692-4040-41cf-b586-12d29b4382a5",
   "metadata": {},
   "outputs": [],
   "source": []
  }
 ],
 "metadata": {
  "kernelspec": {
   "display_name": "",
   "name": ""
  },
  "language_info": {
   "name": ""
  }
 },
 "nbformat": 4,
 "nbformat_minor": 5
}
